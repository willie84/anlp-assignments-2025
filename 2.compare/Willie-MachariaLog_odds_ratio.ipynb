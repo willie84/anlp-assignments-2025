{
  "cells": [
    {
      "cell_type": "markdown",
      "metadata": {
        "id": "41mTyhrMogTX"
      },
      "source": [
        "[![Open In Colab](https://colab.research.google.com/assets/colab-badge.svg)](https://colab.research.google.com/github/dbamman/anlp25/blob/main/2.compare/Log_odds_ratio_TODO.ipynb)"
      ]
    },
    {
      "cell_type": "markdown",
      "metadata": {
        "id": "Bea5Ilu7ogTY"
      },
      "source": [
        "# Log odds-ratio"
      ]
    },
    {
      "cell_type": "markdown",
      "metadata": {
        "id": "IIVpdSX0E9Tw"
      },
      "source": [
        "The log odds ratio with an informative (and uninformative) Dirichlet prior (described in [Monroe et al. 2009, Fighting Words](http://languagelog.ldc.upenn.edu/myl/Monroe.pdf)) is a common method for finding distinctive terms in two datasets (see [Jurafsky et al. 2014](https://firstmonday.org/ojs/index.php/fm/article/view/4944/3863) for an example article that uses it to make an empirical argument). This method for finding distinguishing words combines a number of desirable properties:\n",
        "\n",
        "* it specifies an intuitive metric (the log-odds) for the ratio of two probabilities\n",
        "* it can incorporate prior information in the form of pseudocounts, which can either act as a smoothing factor (in the uninformative case) or incorporate real information about the expected frequency of words overall.\n",
        "* it accounts for variability of a frequency estimate by essentially converting the log-odds to a z-score.\n",
        "\n",
        "In this homework you will implement this ratio for a dataset of your choice to characterize the words that differentiate each one."
      ]
    },
    {
      "cell_type": "code",
      "source": [
        "# Import libraries NLTK and PDF plumber\n",
        "# download the packages first here\n",
        "!pip install nltk\n",
        "!pip install PyPDF2\n",
        "import nltk\n",
        "\n",
        "nltk.download('punkt_tab')\n",
        "import requests # Download from github\n",
        "from PyPDF2 import PdfReader # PDF reader\n",
        "from io import BytesIO\n",
        "import math\n",
        "import operator\n",
        "from collections import Counter\n"
      ],
      "metadata": {
        "colab": {
          "base_uri": "https://localhost:8080/",
          "height": 0
        },
        "id": "GpYCtGGOomOZ",
        "outputId": "be74fb52-424e-44f8-d3bb-cc68033a47e7"
      },
      "execution_count": 34,
      "outputs": [
        {
          "output_type": "stream",
          "name": "stdout",
          "text": [
            "Requirement already satisfied: nltk in /usr/local/lib/python3.12/dist-packages (3.9.1)\n",
            "Requirement already satisfied: click in /usr/local/lib/python3.12/dist-packages (from nltk) (8.2.1)\n",
            "Requirement already satisfied: joblib in /usr/local/lib/python3.12/dist-packages (from nltk) (1.5.2)\n",
            "Requirement already satisfied: regex>=2021.8.3 in /usr/local/lib/python3.12/dist-packages (from nltk) (2024.11.6)\n",
            "Requirement already satisfied: tqdm in /usr/local/lib/python3.12/dist-packages (from nltk) (4.67.1)\n",
            "Requirement already satisfied: PyPDF2 in /usr/local/lib/python3.12/dist-packages (3.0.1)\n"
          ]
        },
        {
          "output_type": "stream",
          "name": "stderr",
          "text": [
            "[nltk_data] Downloading package punkt_tab to /root/nltk_data...\n",
            "[nltk_data]   Package punkt_tab is already up-to-date!\n"
          ]
        }
      ]
    },
    {
      "cell_type": "markdown",
      "metadata": {
        "id": "j7sezbdfE9Ty"
      },
      "source": [
        "## Part 1\n",
        "\n",
        "Your first job is to find two datasets with some interesting opposition -- e.g., news articles from CNN vs. FoxNews, books written by Charles Dickens vs. James Joyce, screenplays of dramas vs. comedies.  Be creative -- this should be driven by what interests you and should reflect your own originality. **This dataset cannot come from Kaggle**.  Feel feel to use web scraping (see [here](https://github.com/CU-ITSS/Web-Data-Scraping-S2023) for a great tutorial) or manually copying/pasting text.  Aim for more than 10,000 tokens for each dataset.\n",
        "   \n",
        "Save those datasets in two files: \"class1_dataset.txt\" and \"class2_dataset.txt\"\n",
        "\n",
        "**Describe each of those datasets and their source in 100-200 words.**"
      ]
    },
    {
      "cell_type": "code",
      "source": [
        "def pdf_to_txt(url, output_file):\n",
        "  # Modify the URL to get the raw content from GitHub\n",
        "  response = requests.get(url)\n",
        "  reader = PdfReader(BytesIO(response.content))\n",
        "  text = \"\\n\".join(page.extract_text() or \"\" for page in reader.pages)\n",
        "  with open(output_file, \"w\", encoding=\"utf-8\") as f:\n",
        "      f.write(text.lower())"
      ],
      "metadata": {
        "id": "jnRV9cRmsDGk"
      },
      "execution_count": 35,
      "outputs": []
    },
    {
      "cell_type": "code",
      "source": [
        "# Download and save the dataset in txt files\n",
        "pdf_to_txt(\"https://raw.githubusercontent.com/willie84/anlp-assignments-2025/main/The_Constitution_of_Kenya_2010.pdf\", \"class1_dataset.txt\")\n",
        "pdf_to_txt(\"https://raw.githubusercontent.com/willie84/anlp-assignments-2025/main/SAConstitution-web-eng.pdf\", \"class2_dataset.txt\")"
      ],
      "metadata": {
        "id": "u2u2f4vJqFfK"
      },
      "execution_count": 36,
      "outputs": []
    },
    {
      "cell_type": "markdown",
      "metadata": {
        "id": "Gv2ceTy9ogTY"
      },
      "source": [
        "Type your response here:\n",
        "\n",
        "\n",
        "---\n",
        "\n",
        "\n",
        "The two datasets are the constitutions of Kenya and South Africa. The Kenyan constitution has been obtained as a PDF document from the Kenyan Parliament website here: https://www.parliament.go.ke/sites/default/files/2017-05/The_Constitution_of_Kenya_2010.pdf\n",
        ".\n",
        "\n",
        "\n",
        "---\n",
        "\n",
        "\n",
        "The South African constitution has also been obtained as a PDF from the South African Department of Justice website here: https://www.justice.gov.za/constitution/SAConstitution-web-eng.pdf\n",
        ". I have downloaded the PDFs and hosted them on my GitHub to be able to download them and use the PDF library to read the PDF content and convert it to text.\n"
      ]
    },
    {
      "cell_type": "markdown",
      "metadata": {
        "id": "xO4_1a4EE9Ty"
      },
      "source": [
        "## Part 2\n",
        "\n",
        "Tokenize those texts by filling out the `read_and_tokenize` function below (your choice of tokenizer). The input is a filename and the output should be a list of tokens."
      ]
    },
    {
      "cell_type": "code",
      "execution_count": 37,
      "metadata": {
        "id": "6eYQtYiCE9Tz"
      },
      "outputs": [],
      "source": [
        "def read_and_tokenize(filename: str) -> list[str]:\n",
        "  \"\"\"Read the file and output a list of strings (tokens).\"\"\"\n",
        "\n",
        "  from nltk.tokenize import sent_tokenize, word_tokenize\n",
        "\n",
        "  # Read file\n",
        "  with open(filename, \"r\") as f:\n",
        "    text = f.read()\n",
        "\n",
        "  # use NLTK word tokenize for tokenizing\n",
        "  tokens = word_tokenize(text)\n",
        "  return tokens"
      ]
    },
    {
      "cell_type": "code",
      "execution_count": 38,
      "metadata": {
        "id": "z28xc1Y1E9Tz",
        "colab": {
          "base_uri": "https://localhost:8080/",
          "height": 0
        },
        "outputId": "a30878a1-6e1e-4b75-f920-86b1f610a779"
      },
      "outputs": [
        {
          "output_type": "stream",
          "name": "stdout",
          "text": [
            "['laws', 'of', 'kenya', 'the', 'constitution', 'of', 'kenya', ',', '2010', 'published']\n",
            "['the', 'constitution', 'of', 'the', 'republic', 'of', 'south', 'africa', ',', '1996']\n",
            "61830\n",
            "59399\n"
          ]
        }
      ],
      "source": [
        "# change these file paths to wherever the datasets you created above live.\n",
        "class1_tokens = read_and_tokenize(\"class1_dataset.txt\")\n",
        "class2_tokens = read_and_tokenize(\"class2_dataset.txt\")\n",
        "print(class1_tokens[:10])\n",
        "print(class2_tokens[:10])\n",
        "print(len(class1_tokens))\n",
        "print(len(class2_tokens))"
      ]
    },
    {
      "cell_type": "markdown",
      "metadata": {
        "id": "lPHj4k4tE9Tz"
      },
      "source": [
        "## Part 3\n",
        "\n",
        "Now let's find the words that characterize each of those sources (with respect to the other). Implement the log-odds ratio with an uninformative Dirichlet prior. This value, $\\widehat\\zeta_w^{(i-j)}$ for word $w$ reflecting the difference in usage between corpus $i$ and corpus $j$, is given by the following equation:\n",
        "\n",
        "$$\n",
        "\\widehat{\\zeta}_w^{(i-j)}= {\\widehat{d}_w^{(i-j)} \\over \\sqrt{\\sigma^2\\left(\\widehat{d}_w^{(i-j)}\\right)}}\n",
        "$$\n",
        "\n",
        "Where:\n",
        "\n",
        "$$\n",
        "\\widehat{d}_w^{(i-j)} = \\log \\left({y_w^i + \\alpha_w} \\over {n^i + \\alpha_0 - y_w^i - \\alpha_w}) \\right) -  \\log \\left({y_w^j + \\alpha_w} \\over {n^j + \\alpha_0 - y_w^j - \\alpha_w}) \\right)\n",
        "$$\n",
        "\n",
        "$$\n",
        "\\sigma^2\\left(\\widehat{d}_w^{(i-j)}\\right) \\approx {1 \\over {y_w^i + \\alpha_w}} + {1 \\over {y_w^j + \\alpha_w} }\n",
        "$$\n",
        "\n",
        "And:\n",
        "\n",
        "* $y_w^i = $ count of word $w$ in corpus $i$ (likewise for $j$)\n",
        "* $\\alpha_w$ = 0.01\n",
        "* $V$ = size of vocabulary (number of distinct word types)\n",
        "* $\\alpha_0 = V * \\alpha_w$\n",
        "* $n^i = $ number of words in corpus $i$ (likewise for $j$)\n",
        "\n",
        "In this example, the two corpora are your class1 dataset (e.g., $i$ = your class1) and your class2 dataset (e.g., $j$ = class2). Using this metric, print out the 25 words most strongly aligned with class1, and 25 words most strongly aligned with class2.  Again, consult [Monroe et al. 2009, Fighting Words](http://languagelog.ldc.upenn.edu/myl/Monroe.pdf) for more detail."
      ]
    },
    {
      "cell_type": "code",
      "execution_count": 39,
      "metadata": {
        "id": "lHWahiy8E9T0"
      },
      "outputs": [],
      "source": [
        "def logodds_with_uninformative_prior(tokens_i: list[str], tokens_j: list[str], display=25):\n",
        "    \"\"\"Print out the log odds results given two lists of tokens.\"\"\"\n",
        "    # Count tokens # Use Counter library\n",
        "    num_of_tokens_per_word_1 = Counter(tokens_i)\n",
        "    num_of_tokens_per_word_2 = Counter(tokens_j)\n",
        "\n",
        "    # Get all types ie unique words in the corpora\n",
        "    all_types = set(num_of_tokens_per_word_1) | set(num_of_tokens_per_word_2) # Make the union\n",
        "\n",
        "    # Prior\n",
        "    Prior_constant = 0.01\n",
        "    Prior_constant_by_len_of_types = len(all_types) * Prior_constant\n",
        "\n",
        "    dict_of_types_with_log_odds =  {}\n",
        "    for typez in all_types:\n",
        "        type_count_in_corpora_1 = num_of_tokens_per_word_1.get(typez, 0)\n",
        "        type_count_in_corpora_2 = num_of_tokens_per_word_2.get(typez, 0)\n",
        "\n",
        "        # As per the class notes\n",
        "        log_odds = (\n",
        "            math.log((type_count_in_corpora_1 + Prior_constant) / (len(tokens_i) + Prior_constant_by_len_of_types - type_count_in_corpora_1 - Prior_constant))\n",
        "            - math.log((type_count_in_corpora_2 + Prior_constant) / (len(tokens_j) + Prior_constant_by_len_of_types - type_count_in_corpora_2 - Prior_constant))\n",
        "        )\n",
        "\n",
        "        # From variance formula\n",
        "\n",
        "        variance = 1.0 / (type_count_in_corpora_1 + Prior_constant) + 1.0 / (type_count_in_corpora_2 + Prior_constant)\n",
        "\n",
        "        # Somehow get the Z value\n",
        "        dict_of_types_with_log_odds[typez] = log_odds / math.sqrt(variance)\n",
        "\n",
        "    # Sort the log odds\n",
        "\n",
        "    sorted_log_odds = sorted(dict_of_types_with_log_odds.items(), key=lambda item: item[1], reverse=True) # descending order\n",
        "\n",
        "    # Display results\n",
        "    print(\"Words that are aligned with document 1 which is Kenyan constitution:\")\n",
        "    for typezz, score in sorted_log_odds[:display]:\n",
        "        print(f\"{score:.3f}\\t{typezz}\")\n",
        "\n",
        "    print(\"Words that are aligned with document 2 which is South Africa  constitution:\")\n",
        "    for typezz, score in reversed(sorted_log_odds[-display:]):\n",
        "        print(f\"{score:.3f}\\t{typezz}\")\n"
      ]
    },
    {
      "cell_type": "code",
      "source": [
        "logodds_with_uninformative_prior(class1_tokens,class1_tokens)"
      ],
      "metadata": {
        "id": "B_PQsn_Ie5p3",
        "outputId": "f82c7491-d0e4-467e-ed6a-4b2804db5eca",
        "colab": {
          "base_uri": "https://localhost:8080/",
          "height": 0
        }
      },
      "execution_count": 40,
      "outputs": [
        {
          "output_type": "stream",
          "name": "stdout",
          "text": [
            "Words that are aligned with document 1 which is Kenyan constitution:\n",
            "0.000\tcontents\n",
            "0.000\tability\n",
            "0.000\tnominate\n",
            "0.000\tthirtieth\n",
            "0.000\toccur\n",
            "0.000\t248\n",
            "0.000\tthey\n",
            "0.000\ttabulated\n",
            "0.000\t193\n",
            "0.000\tmethod\n",
            "0.000\tsingly\n",
            "0.000\tnone\n",
            "0.000\tmurang\n",
            "0.000\t166—appointment\n",
            "0.000\texamination\n",
            "0.000\ttwo—republic\n",
            "0.000\tsubstance\n",
            "0.000\tmobility\n",
            "0.000\t211—borrowing\n",
            "0.000\tincurred\n",
            "0.000\tdiscontinue\n",
            "0.000\t165—high\n",
            "0.000\tnominates\n",
            "0.000\tacquisition\n",
            "0.000\tcity165\n",
            "Words that are aligned with document 2 which is South Africa  constitution:\n",
            "0.000\tfee\n",
            "0.000\tmargin\n",
            "0.000\tcontext\n",
            "0.000\tprogramme\n",
            "0.000\tchairing\n",
            "0.000\tquestion\n",
            "0.000\tdeputy\n",
            "0.000\twon\n",
            "0.000\tbefore\n",
            "0.000\treflects\n",
            "0.000\treflect\n",
            "0.000\tconcurrent\n",
            "0.000\t2—independent\n",
            "0.000\tbiodiversity\n",
            "0.000\texecute\n",
            "0.000\tentrusted\n",
            "0.000\tincludes—\n",
            "0.000\tattainable\n",
            "0.000\tintellectual\n",
            "0.000\t2008\n",
            "0.000\t.192\n",
            "0.000\trepresentative\n",
            "0.000\tdanger\n",
            "0.000\t146\n",
            "0.000\texercises\n"
          ]
        }
      ]
    },
    {
      "cell_type": "markdown",
      "metadata": {
        "id": "PF-MOybbogTZ"
      },
      "source": [
        "To check your work, you can run log-odds on the party platforms from the lab section. With `nltk.word_tokenize` _before_ lower-casing, these should be your top 5 words (and scores, roughly). Depending on your tokenization strategy, your scores might be slightly different.\n",
        "\n",
        "**Democrat**:\n",
        "```\n",
        "president:\t4.75\n",
        "biden:\t4.27\n",
        "to:\t4.11\n",
        "he:\t4.09\n",
        "has:\t4.08\n",
        "```\n",
        "**Republican**\n",
        "```\n",
        "republicans:\t-13.45\n",
        "our:\t-11.23\n",
        "will:\t-10.88\n",
        "american:\t-10.01\n",
        "restore:\t-7.97\n",
        "```"
      ]
    },
    {
      "cell_type": "code",
      "execution_count": 41,
      "metadata": {
        "colab": {
          "base_uri": "https://localhost:8080/",
          "height": 0
        },
        "id": "pdqSAjQJogTZ",
        "outputId": "38a0e96a-bb28-458f-e920-f68963823d85"
      },
      "outputs": [
        {
          "output_type": "stream",
          "name": "stdout",
          "text": [
            "--2025-09-09 22:09:29--  https://raw.githubusercontent.com/dbamman/anlp25/main/data/2024_democrat_party_platform.txt\n",
            "Resolving raw.githubusercontent.com (raw.githubusercontent.com)... 185.199.108.133, 185.199.109.133, 185.199.110.133, ...\n",
            "Connecting to raw.githubusercontent.com (raw.githubusercontent.com)|185.199.108.133|:443... connected.\n",
            "HTTP request sent, awaiting response... 200 OK\n",
            "Length: 283046 (276K) [text/plain]\n",
            "Saving to: ‘2024_democrat_party_platform.txt.3’\n",
            "\n",
            "2024_democrat_party 100%[===================>] 276.41K  --.-KB/s    in 0.02s   \n",
            "\n",
            "2025-09-09 22:09:30 (15.2 MB/s) - ‘2024_democrat_party_platform.txt.3’ saved [283046/283046]\n",
            "\n",
            "--2025-09-09 22:09:30--  https://raw.githubusercontent.com/dbamman/anlp25/main/data/2024_republican_party_platform.txt\n",
            "Resolving raw.githubusercontent.com (raw.githubusercontent.com)... 185.199.108.133, 185.199.111.133, 185.199.110.133, ...\n",
            "Connecting to raw.githubusercontent.com (raw.githubusercontent.com)|185.199.108.133|:443... connected.\n",
            "HTTP request sent, awaiting response... 200 OK\n",
            "Length: 35319 (34K) [text/plain]\n",
            "Saving to: ‘2024_republican_party_platform.txt.3’\n",
            "\n",
            "2024_republican_par 100%[===================>]  34.49K  --.-KB/s    in 0.004s  \n",
            "\n",
            "2025-09-09 22:09:30 (7.81 MB/s) - ‘2024_republican_party_platform.txt.3’ saved [35319/35319]\n",
            "\n"
          ]
        }
      ],
      "source": [
        "!wget --no-check-certificate https://raw.githubusercontent.com/dbamman/anlp25/main/data/2024_democrat_party_platform.txt\n",
        "!wget --no-check-certificate https://raw.githubusercontent.com/dbamman/anlp25/main/data/2024_republican_party_platform.txt"
      ]
    },
    {
      "cell_type": "code",
      "execution_count": 42,
      "metadata": {
        "colab": {
          "base_uri": "https://localhost:8080/",
          "height": 0
        },
        "id": "PywnVLZbogTa",
        "outputId": "b82ca665-545e-4a1f-f7aa-58adc80aeb17"
      },
      "outputs": [
        {
          "output_type": "stream",
          "name": "stdout",
          "text": [
            "Words that are aligned with document 1 which is Kenyan constitution:\n",
            "4.751\tpresident\n",
            "4.267\tbiden\n",
            "4.110\tto\n",
            "4.090\the\n",
            "4.076\thas\n",
            "3.761\tmore\n",
            "3.389\tdemocrats\n",
            "3.139\tfor\n",
            "3.133\talso\n",
            "3.064\tadministration\n",
            "3.056\t's\n",
            "2.931\this\n",
            "2.900\ta\n",
            "2.818\tis\n",
            "2.775\t$\n",
            "2.563\tin\n",
            "2.514\tthan\n",
            "2.511\tcare\n",
            "2.488\tcommunities\n",
            "2.297\tas\n",
            "2.275\tcontinue\n",
            "2.263\tworking\n",
            "2.260\twork\n",
            "2.246\tamericans\n",
            "2.235\tyear\n",
            "Words that are aligned with document 2 which is South Africa  constitution:\n",
            "-13.446\trepublicans\n",
            "-11.235\tour\n",
            "-10.882\twill\n",
            "-10.014\tamerican\n",
            "-7.966\trestore\n",
            "-7.110\tgreat\n",
            "-6.325\tillegal\n",
            "-6.072\trepublican\n",
            "-5.910\tpolicies\n",
            "-5.797\t:\n",
            "-5.787\tstop\n",
            "-5.563\tagain\n",
            "-5.555\twe\n",
            "-5.551\tinflation\n",
            "-5.506\t4\n",
            "-5.436\tmust\n",
            "-5.323\t1\n",
            "-5.304\tparty\n",
            "-5.281\t3\n",
            "-5.181\tcommon\n",
            "-5.154\tbring\n",
            "-5.142\tpeace\n",
            "-5.117\t5\n",
            "-5.113\teducation\n",
            "-4.944\tcommitment\n"
          ]
        }
      ],
      "source": [
        "\n",
        "import nltk\n",
        "logodds_with_uninformative_prior(\n",
        "    [w.lower() for w in read_and_tokenize(\"2024_democrat_party_platform.txt\")],\n",
        "    [w.lower() for w in read_and_tokenize(\"2024_republican_party_platform.txt\")]\n",
        ")"
      ]
    },
    {
      "cell_type": "code",
      "execution_count": 42,
      "metadata": {
        "id": "1ttfY-tfogTa"
      },
      "outputs": [],
      "source": []
    }
  ],
  "metadata": {
    "colab": {
      "provenance": []
    },
    "kernelspec": {
      "display_name": "Python 3 (ipykernel)",
      "language": "python",
      "name": "python3"
    },
    "language_info": {
      "codemirror_mode": {
        "name": "ipython",
        "version": 3
      },
      "file_extension": ".py",
      "mimetype": "text/x-python",
      "name": "python",
      "nbconvert_exporter": "python",
      "pygments_lexer": "ipython3",
      "version": "3.13.5"
    }
  },
  "nbformat": 4,
  "nbformat_minor": 0
}